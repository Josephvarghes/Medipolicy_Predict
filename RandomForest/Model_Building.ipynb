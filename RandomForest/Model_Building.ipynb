{
 "cells": [
  {
   "cell_type": "markdown",
   "metadata": {},
   "source": [
    "Step 1: Load and Preprocess the Data"
   ]
  },
  {
   "cell_type": "code",
   "execution_count": 2,
   "metadata": {},
   "outputs": [],
   "source": [
    "import pandas as pd \n",
    "import numpy as np \n",
    "from sklearn.model_selection import train_test_split \n",
    "from sklearn.preprocessing import LabelEncoder, StandardScaler \n",
    "\n",
    "#load dataset \n",
    "df_bmi = pd.read_excel(\"../Data/Medibuddy_BMI.xlsx\") \n",
    "df_region =pd.read_excel(\"../Data/Medibuddy_Region.xlsx\") \n",
    "\n",
    "#Merge \n",
    "df = pd.merge(df_bmi, df_region, on=\"Policy no.\") \n",
    "\n",
    "#drop policy no since it is not relevant \n",
    "df.drop(columns=[\"Policy no.\"], inplace=True) \n",
    "\n",
    "#Encode categorical varivable  \n",
    "encoder = LabelEncoder() \n",
    "df[\"sex\"] = encoder.fit_transform(df[\"sex\"]) \n",
    "df[\"region\"] = encoder.fit_transform(df[\"region\"])  \n",
    "df[\"smoker\"] = encoder.fit_transform(df[\"smoker\"])\n",
    "#feature selection \n",
    "x = df.drop(columns=[\"charges in INR\"]) \n",
    "y = df[\"charges in INR\"] \n",
    "\n",
    "#split data into 80 20 ratio \n",
    "x_train,x_test,y_train, y_test = train_test_split(x, y, test_size=0.2,random_state=42) \n",
    "\n",
    "#scale numerical features \n",
    "scaler = StandardScaler() \n",
    "x_train =scaler.fit_transform(x_train) \n",
    "x_test =scaler.fit_transform(x_test)\n"
   ]
  },
  {
   "cell_type": "code",
   "execution_count": 8,
   "metadata": {},
   "outputs": [
    {
     "name": "stdout",
     "output_type": "stream",
     "text": [
      "x_train columns: Index(['age', 'sex', 'bmi', 'children', 'smoker', 'region'], dtype='object')\n",
      "x_test columns: Index(['age', 'sex', 'bmi', 'children', 'smoker', 'region'], dtype='object')\n"
     ]
    }
   ],
   "source": [
    "# Convert scaled arrays back to DataFrames to retain column names\n",
    "t_x_train = pd.DataFrame(x_train, columns=x.columns)\n",
    "t_x_test = pd.DataFrame(x_test, columns=x.columns)\n",
    "\n",
    "# Check column names\n",
    "print(\"x_train columns:\", t_x_train.columns)\n",
    "print(\"x_test columns:\", t_x_test.columns)"
   ]
  },
  {
   "cell_type": "markdown",
   "metadata": {},
   "source": [
    "Step 2: Train the Machine Learning Model"
   ]
  },
  {
   "cell_type": "code",
   "execution_count": 9,
   "metadata": {},
   "outputs": [
    {
     "name": "stdout",
     "output_type": "stream",
     "text": [
      "MAE: 2721.20, MSE: 21459598.88, R2 Score: 0.86\n"
     ]
    }
   ],
   "source": [
    "from sklearn.ensemble import RandomForestRegressor \n",
    "from sklearn.metrics import mean_absolute_error,mean_squared_error,r2_score \n",
    "\n",
    "model = RandomForestRegressor(n_estimators=100, random_state=42) \n",
    "\n",
    "model.fit(x_train, y_train) \n",
    "\n",
    "y_pred = model.predict(x_test) \n",
    "\n",
    "#Evaliate the model \n",
    "\n",
    "mae = mean_absolute_error(y_test,y_pred) \n",
    "mse = mean_squared_error(y_test, y_pred) \n",
    "r2 = r2_score(y_test, y_pred) \n",
    "\n",
    "print(f\"MAE: {mae:.2f}, MSE: {mse:.2f}, R2 Score: {r2:.2f}\")"
   ]
  },
  {
   "cell_type": "markdown",
   "metadata": {},
   "source": [
    "Step 3: Hyperparameter Tuning with GridSearchCV"
   ]
  },
  {
   "cell_type": "code",
   "execution_count": 11,
   "metadata": {},
   "outputs": [
    {
     "name": "stdout",
     "output_type": "stream",
     "text": [
      "Best parameters: {'max_depth': 20, 'min_samples_split': 10, 'n_estimators': 200}\n"
     ]
    }
   ],
   "source": [
    "from sklearn.model_selection import GridSearchCV \n",
    "\n",
    "#Define hyperparameter grid \n",
    "param_grid = {\n",
    "    'n_estimators': [50, 100, 200], \n",
    "    'max_depth':[None, 10, 20], \n",
    "    'min_samples_split':[2, 5, 10]\n",
    "} \n",
    "\n",
    "grid_search = GridSearchCV(RandomForestRegressor(), param_grid, cv= 5, n_jobs=-1)  \n",
    "grid_search.fit(x_train,y_train) \n",
    "\n",
    "best_model = grid_search.best_estimator_ \n",
    "print(f\"Best parameters: {grid_search.best_params_}\")"
   ]
  },
  {
   "cell_type": "code",
   "execution_count": 2,
   "metadata": {},
   "outputs": [],
   "source": [
    "# Save the best model\n",
    "import joblib\n",
    "joblib.dump(best_model, \"best_model3.pkl\") \n"
   ]
  }
 ],
 "metadata": {
  "kernelspec": {
   "display_name": "Python 3",
   "language": "python",
   "name": "python3"
  },
  "language_info": {
   "codemirror_mode": {
    "name": "ipython",
    "version": 3
   },
   "file_extension": ".py",
   "mimetype": "text/x-python",
   "name": "python",
   "nbconvert_exporter": "python",
   "pygments_lexer": "ipython3",
   "version": "3.12.4"
  }
 },
 "nbformat": 4,
 "nbformat_minor": 2
}
